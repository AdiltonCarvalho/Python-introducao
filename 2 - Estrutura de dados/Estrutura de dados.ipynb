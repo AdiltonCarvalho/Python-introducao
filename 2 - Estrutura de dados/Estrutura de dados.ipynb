{
 "cells": [
  {
   "cell_type": "markdown",
   "metadata": {
    "id": "d9jDtUbDOE1-"
   },
   "source": [
    "# **Introdução**\n",
    "\n",
    "\n",
    "Python é uma linguagem de programação que oferece uma variedade de estruturas de dados flexíveis e poderosas para armazenar, organizar e manipular informações. Nesta introdução, exploraremos três das estruturas de dados mais comuns em Python: listas, conjuntos e dicionários, e como elas desempenham um papel fundamental no desenvolvimento de aplicativos Python.\n",
    "\n",
    "**Listas:**\n",
    "\n",
    "Uma lista é uma coleção ordenada de elementos, onde cada elemento pode ser de qualquer tipo de dado, incluindo números, strings, outras listas e objetos personalizados. Listas são definidas por colchetes `[ ]` e podem ser facilmente modificadas, adicionando, removendo ou alterando elementos. Sua ordem é preservada, o que significa que os elementos são acessados por meio de índices numéricos, começando em 0. Listas são extremamente versáteis e amplamente usadas em Python para armazenar coleções de itens relacionados.\n",
    "\n",
    "**Conjuntos:**\n",
    "\n",
    "Um conjunto, em Python, é uma coleção não ordenada e mutável de elementos únicos. Os conjuntos são definidos por chaves `{ }` ou pela função `set()`. Eles são úteis quando você precisa armazenar uma coleção de itens onde a ordem não importa e você deseja garantir que cada elemento seja exclusivo. Os conjuntos suportam operações de conjunto, como união, interseção e diferença, o que os torna valiosos para tarefas que envolvem deduplicação ou verificação de pertencimento.\n",
    "\n",
    "**Dicionários:**\n",
    "\n",
    "Os dicionários em Python são estruturas de dados que permitem associar chaves a valores. Cada elemento de um dicionário é um par chave-valor. Os dicionários são definidos por chaves `{ }` e têm uma estrutura flexível, onde as chaves devem ser únicas e imutáveis (geralmente strings ou números). Os valores associados às chaves podem ser de qualquer tipo de dado. Dicionários são particularmente eficientes para buscar valores com base em chaves, fornecendo um acesso rápido aos dados.\n",
    "\n",
    "A escolha da estrutura de dados certa depende das necessidades específicas do seu programa. As listas são ideais quando você precisa de uma coleção ordenada de itens acessados por índice. Os conjuntos são excelentes para garantir a unicidade de elementos e realizar operações de conjunto. Os dicionários são perfeitos para mapear informações associando chaves a valores, oferecendo um acesso eficiente e direto aos dados.\n",
    "\n",
    "Conhecimento sólido sobre listas, conjuntos e dicionários é essencial para aprofundar seu entendimento em Python e capacitar-se a criar programas mais eficientes e versáteis. À medida que exploramos essas estruturas de dados, você descobrirá como elas são essenciais em uma variedade de cenários de programação Python."
   ]
  },
  {
   "cell_type": "markdown",
   "metadata": {
    "id": "GABI6OW8OfQ2"
   },
   "source": [
    "# **Exercícios**"
   ]
  },
  {
   "cell_type": "markdown",
   "metadata": {
    "id": "muD1vxozykSC"
   },
   "source": [
    "## 1\\. Listas"
   ]
  },
  {
   "cell_type": "markdown",
   "metadata": {
    "id": "ahrFfCuBxJKs"
   },
   "source": [
    "Criei uma lista chamada `filmes` com o nome dos 10 primeiros filmes mais bem avaliados no site no [IMDB](https://www.imdb.com/chart/top/). Imprima o resultado."
   ]
  },
  {
   "cell_type": "code",
   "execution_count": 16,
   "metadata": {
    "colab": {
     "base_uri": "https://localhost:8080/"
    },
    "id": "OgL6Hv3bzOHI",
    "outputId": "cc4d22ad-8eb3-4234-fefd-6ec11891509a"
   },
   "outputs": [],
   "source": [
    "filmes = ['Um sonho de liberdade','O poderoso chefão','Batman: O cavaleiro das trevas','A lista de Schindler','12 homens e uma sentença','O senhor dos anéis: O retorno do rei','O poderoso chefão II','Homem-aranha: Através do aranhaverso','Pulp Fiction - Tempo  de violência','Oppenheimer']"
   ]
  },
  {
   "cell_type": "code",
   "execution_count": null,
   "metadata": {},
   "outputs": [],
   "source": []
  },
  {
   "cell_type": "markdown",
   "metadata": {
    "id": "KI9zQRT2xa7m"
   },
   "source": [
    "Simule a movimentação do *ranking*. Utilize os métodos `insert` e `pop` para trocar a posição do primeiro e do segundo filme da lista. Imprima o resultado. Você pode estudar sobre os métodos nesse [link](https://www.w3schools.com/python/python_ref_string.asp):"
   ]
  },
  {
   "cell_type": "code",
   "execution_count": null,
   "metadata": {
    "colab": {
     "base_uri": "https://localhost:8080/"
    },
    "id": "zX3mA3_GzrXH",
    "outputId": "bebae9fb-1ae0-4c4d-b93b-b482b43ce9e5"
   },
   "outputs": [],
   "source": []
  },
  {
   "cell_type": "markdown",
   "metadata": {
    "id": "lxa5L6uF0ZJE"
   },
   "source": [
    "## 2\\. Conjuntos"
   ]
  },
  {
   "cell_type": "markdown",
   "metadata": {
    "id": "9JahS2Kj0d5u"
   },
   "source": [
    "Aconteceu um erro no seu *ranking*. Simule a duplicação dos três últimos filmes da lista. Imprima o resultado."
   ]
  },
  {
   "cell_type": "code",
   "execution_count": null,
   "metadata": {
    "colab": {
     "base_uri": "https://localhost:8080/"
    },
    "id": "BnjnLBNC6PGe",
    "outputId": "9f6b18bc-61a1-46bc-d04e-305aa09ec1c4"
   },
   "outputs": [],
   "source": []
  },
  {
   "cell_type": "markdown",
   "metadata": {
    "id": "suxTfCJB6ZiX"
   },
   "source": [
    "Utiliza a conversão `set` e `list` para remover os valores duplicados. Imprima o resultado."
   ]
  },
  {
   "cell_type": "code",
   "execution_count": null,
   "metadata": {
    "colab": {
     "base_uri": "https://localhost:8080/"
    },
    "id": "ZvUGN-0n6joM",
    "outputId": "568be4e8-347b-4ba8-909d-2a1741b5d5cc"
   },
   "outputs": [],
   "source": []
  },
  {
   "cell_type": "markdown",
   "metadata": {
    "id": "EL_FzmxL6rTv"
   },
   "source": [
    "## 3\\. Dicionários"
   ]
  },
  {
   "cell_type": "markdown",
   "metadata": {
    "id": "i8l0gFqRCpfT"
   },
   "source": [
    "Repita os exercícios da parte 1 (listas). Os elementos da lista `filmes` devem ser dicionários no seguinte formato: `{'nome': <nome-do-filme>, 'ano': <ano do filme>}, 'sinopse': <sinopse do filme>}`. acesse o site [IMDB](https://www.imdb.com/chart/top/) para pesquisar o ano e sinopse."
   ]
  },
  {
   "cell_type": "code",
   "execution_count": null,
   "metadata": {
    "colab": {
     "base_uri": "https://localhost:8080/"
    },
    "id": "3miCQ1CPzz91",
    "outputId": "1614324a-6cbc-42f6-cdb8-6bfc699e4d1d"
   },
   "outputs": [],
   "source": []
  },
  {
   "cell_type": "code",
   "execution_count": null,
   "metadata": {
    "colab": {
     "base_uri": "https://localhost:8080/"
    },
    "id": "QdEhiaqLrs-p",
    "outputId": "79af4c9e-f319-4f78-ee91-215e517bbdd0"
   },
   "outputs": [],
   "source": []
  },
  {
   "cell_type": "code",
   "execution_count": null,
   "metadata": {},
   "outputs": [],
   "source": []
  }
 ],
 "metadata": {
  "colab": {
   "provenance": [],
   "toc_visible": true
  },
  "kernelspec": {
   "display_name": "Python 3 (ipykernel)",
   "language": "python",
   "name": "python3"
  },
  "language_info": {
   "codemirror_mode": {
    "name": "ipython",
    "version": 3
   },
   "file_extension": ".py",
   "mimetype": "text/x-python",
   "name": "python",
   "nbconvert_exporter": "python",
   "pygments_lexer": "ipython3",
   "version": "3.11.3"
  }
 },
 "nbformat": 4,
 "nbformat_minor": 1
}
