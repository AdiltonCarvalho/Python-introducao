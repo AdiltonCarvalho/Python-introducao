{
 "cells": [
  {
   "cell_type": "markdown",
   "metadata": {
    "id": "d9jDtUbDOE1-"
   },
   "source": [
    "# **Introdução**\n",
    "\n",
    "\n",
    "Python é uma linguagem de programação versátil e poderosa que oferece uma variedade de estruturas de controle para manipular o fluxo do programa e lidar com situações diversas. Nesta introdução, exploraremos três aspectos cruciais das estruturas de controle em Python.\n",
    "\n",
    "**Estrutura Condicional if/else/elif:**\n",
    "\n",
    "A estrutura condicional `if` é um dos blocos de construção fundamentais em Python. Permite que você execute um bloco de código se uma condição for verdadeira e, opcionalmente, execute um bloco alternativo (`else`) se a condição for falsa. Além disso, a estrutura `elif` (abreviação de \"else if\") permite avaliar múltiplas condições em sequência, tornando-o útil para tomar decisões complexas.\n",
    "\n",
    "**Estrutura Condicional try/except/finally:**\n",
    "\n",
    "A estrutura condicional `try` é usada para lidar com exceções e erros em Python. Ela permite que você execute um bloco de código onde pode ocorrer uma exceção e, se uma exceção for lançada, você pode capturá-la e tomar medidas apropriadas usando o bloco `except`. O bloco `finally` é opcional e é executado sempre, independentemente de ocorrer ou não uma exceção. Isso é essencial para garantir que recursos sejam liberados adequadamente, mesmo em caso de erros.\n",
    "\n",
    "**Estrutura de Repetição for/in:**\n",
    "\n",
    "Python fornece uma estrutura de repetição `for` que é usada para iterar sobre uma sequência (como uma lista, tupla, string, etc.) ou um iterável. Você pode usar o `for` para executar um bloco de código repetidamente para cada elemento da sequência. Essa estrutura é poderosa e eficiente para processar dados e automatizar tarefas repetitivas.\n",
    "\n",
    "À medida que exploramos essas estruturas de controle em Python, você entenderá como elas são fundamentais para criar programas robustos, tomar decisões lógicas, lidar com exceções e repetir tarefas com facilidade. As estruturas de controle são ferramentas essenciais para qualquer programador Python, permitindo a criação de código mais sofisticado e flexível."
   ]
  },
  {
   "cell_type": "markdown",
   "metadata": {
    "id": "GABI6OW8OfQ2"
   },
   "source": [
    "# **Exercícios**"
   ]
  },
  {
   "cell_type": "markdown",
   "metadata": {
    "id": "JdGTxrYd6qie"
   },
   "source": [
    "## 1\\. Estrutura condicional for / in"
   ]
  },
  {
   "cell_type": "markdown",
   "metadata": {
    "id": "K4T1xp3v6qif"
   },
   "source": [
    "Na lista `propaganda_online` abaixo, estão presentes os dados de usuários que acessaram um determinado site e se o mesmo clicou em uma propaganda."
   ]
  },
  {
   "cell_type": "code",
   "execution_count": 1,
   "metadata": {
    "id": "UrYyKUPL6qif"
   },
   "outputs": [],
   "source": [
    "propaganda_online = [\n",
    "  {'tempo_gasto_site': 68.95, 'idade': 35, 'renda_area': 61833.90, 'tempo_gasto_internet': 256.09, 'cidade': 'Wrightburgh', 'pais': 'Tunisia', 'clicou_no_ad': 0},\n",
    "  {'tempo_gasto_site': 80.23, 'idade': 31, 'renda_area': 68441.85, 'tempo_gasto_internet': 193.77, 'cidade': 'West Jodi', 'pais': 'Nauru', 'clicou_no_ad': 0},\n",
    "  {'tempo_gasto_site': 69.47, 'idade': 26, 'renda_area': 59785.94, 'tempo_gasto_internet': 236.50, 'cidade': 'Davidton', 'pais': 'San Marino', 'clicou_no_ad': 0},\n",
    "  {'tempo_gasto_site': 68.37, 'idade': 35, 'renda_area': 73889.99, 'tempo_gasto_internet': 225.58, 'cidade': 'South Manuel', 'pais': 'Iceland', 'clicou_no_ad': 0},\n",
    "  {'tempo_gasto_site': 88.91, 'idade': 33, 'renda_area': 53852.85, 'tempo_gasto_internet': 208.36, 'cidade': 'Brandonstad', 'pais': 'Myanmar', 'clicou_no_ad': 0},\n",
    "  {'tempo_gasto_site': None, 'idade': 48, 'renda_area': 24593.33, 'tempo_gasto_internet': 131.76, 'cidade': 'Port Jefferybury', 'pais': 'Australia', 'clicou_no_ad': 1},\n",
    "  {'tempo_gasto_site': 74.53, 'idade': 30, 'renda_area': 68862.00, 'tempo_gasto_internet': 221.51, 'cidade': 'West Colin', 'pais': 'Grenada'},\n",
    "  {'tempo_gasto_site': 69.88, 'idade': 20, 'renda_area': 55642.32, 'tempo_gasto_internet': 183.82, 'cidade': 'Ramirezton', 'pais': 'Ghana', 'clicou_no_ad': 0}\n",
    "]"
   ]
  },
  {
   "cell_type": "code",
   "execution_count": 3,
   "metadata": {
    "id": "cyMWqs_t8pWA",
    "outputId": "a18ecb08-b91d-4ecb-d01b-87dd0f17654d"
   },
   "outputs": [
    {
     "name": "stdout",
     "output_type": "stream",
     "text": [
      "{'tempo_gasto_site': 68.95, 'idade': 35, 'renda_area': 61833.9, 'tempo_gasto_internet': 256.09, 'cidade': 'Wrightburgh', 'pais': 'Tunisia', 'clicou_no_ad': 0}\n",
      "{'tempo_gasto_site': 80.23, 'idade': 31, 'renda_area': 68441.85, 'tempo_gasto_internet': 193.77, 'cidade': 'West Jodi', 'pais': 'Nauru', 'clicou_no_ad': 0}\n",
      "{'tempo_gasto_site': 69.47, 'idade': 26, 'renda_area': 59785.94, 'tempo_gasto_internet': 236.5, 'cidade': 'Davidton', 'pais': 'San Marino', 'clicou_no_ad': 0}\n",
      "{'tempo_gasto_site': 68.37, 'idade': 35, 'renda_area': 73889.99, 'tempo_gasto_internet': 225.58, 'cidade': 'South Manuel', 'pais': 'Iceland', 'clicou_no_ad': 0}\n",
      "{'tempo_gasto_site': 88.91, 'idade': 33, 'renda_area': 53852.85, 'tempo_gasto_internet': 208.36, 'cidade': 'Brandonstad', 'pais': 'Myanmar', 'clicou_no_ad': 0}\n",
      "{'tempo_gasto_site': None, 'idade': 48, 'renda_area': 24593.33, 'tempo_gasto_internet': 131.76, 'cidade': 'Port Jefferybury', 'pais': 'Australia', 'clicou_no_ad': 1}\n",
      "{'tempo_gasto_site': 74.53, 'idade': 30, 'renda_area': 68862.0, 'tempo_gasto_internet': 221.51, 'cidade': 'West Colin', 'pais': 'Grenada'}\n",
      "{'tempo_gasto_site': 69.88, 'idade': 20, 'renda_area': 55642.32, 'tempo_gasto_internet': 183.82, 'cidade': 'Ramirezton', 'pais': 'Ghana', 'clicou_no_ad': 0}\n"
     ]
    }
   ],
   "source": [
    "# Itera sobre cada elemento da lista 'propaganda_online'\n",
    "for dado_de_usuario in propaganda_online:\n",
    "    # Imprime cada 'dado_de_usuario' na lista\n",
    "    print(dado_de_usuario)"
   ]
  },
  {
   "cell_type": "markdown",
   "metadata": {
    "id": "_vMeomGB6qij"
   },
   "source": [
    "1.1. Imprime os seguintes valores da lista:\n",
    "`tempo_gasto_site` e `idade`\n",
    "\n",
    "Dica: Utilize os conceitos de chave e valor de elementos de uma lista para selecionar os valores de uma chave (lista[chave]), conforme exemplo abaixo, na qual imprime somente os dados da chave `cidade`:"
   ]
  },
  {
   "cell_type": "code",
   "execution_count": 2,
   "metadata": {
    "colab": {
     "base_uri": "https://localhost:8080/"
    },
    "id": "_F0dQT6J6qij",
    "outputId": "b3f92721-0b85-4d73-8387-76f270ff5355"
   },
   "outputs": [
    {
     "name": "stdout",
     "output_type": "stream",
     "text": [
      "Wrightburgh\n",
      "West Jodi\n",
      "Davidton\n",
      "South Manuel\n",
      "Brandonstad\n",
      "Port Jefferybury\n",
      "West Colin\n",
      "Ramirezton\n"
     ]
    }
   ],
   "source": [
    "# Itera sobre cada elemento da lista 'propaganda_online'\n",
    "for dado_de_usuario in propaganda_online:\n",
    "    # Imprime cada cidade do usuário na lista\n",
    "    print(dado_de_usuario['cidade'])"
   ]
  },
  {
   "cell_type": "code",
   "execution_count": 9,
   "metadata": {
    "colab": {
     "base_uri": "https://localhost:8080/"
    },
    "id": "YNSVgiRA8P1h",
    "outputId": "7c139c48-9c04-442d-abcd-b11e9ab8e786"
   },
   "outputs": [
    {
     "name": "stdout",
     "output_type": "stream",
     "text": [
      "Tempo gasto  Idade\n",
      "\n",
      "68.95        35\n",
      "80.23        31\n",
      "69.47        26\n",
      "68.37        35\n",
      "88.91        33\n",
      "None        48\n",
      "74.53        30\n",
      "69.88        20\n"
     ]
    }
   ],
   "source": [
    "# Imprime um cabeçalho para as colunas 'Tempo gasto' e 'Idade'\n",
    "print('Tempo gasto  Idade\\n')\n",
    "\n",
    "# Itera sobre cada elemento da lista 'propaganda_online'\n",
    "for dado_de_usuario in propaganda_online:\n",
    "    # Imprime o valor de 'tempo_gasto_site' e 'idade' separados por espaços\n",
    "    print(dado_de_usuario['tempo_gasto_site'], '      ', dado_de_usuario['idade'])\n"
   ]
  },
  {
   "cell_type": "markdown",
   "metadata": {
    "id": "PUopSIXM6qik"
   },
   "source": [
    "Extrair os valores da chave tempo_gasto_site"
   ]
  },
  {
   "cell_type": "code",
   "execution_count": 10,
   "metadata": {
    "colab": {
     "base_uri": "https://localhost:8080/"
    },
    "id": "O8Fk5tel6qik",
    "outputId": "b8bb414d-17a5-47bc-8686-95b9799f8d61"
   },
   "outputs": [
    {
     "name": "stdout",
     "output_type": "stream",
     "text": [
      "Tempo gasto acessando o site\n",
      "\n",
      "68.95\n",
      "80.23\n",
      "69.47\n",
      "68.37\n",
      "88.91\n",
      "None\n",
      "74.53\n",
      "69.88\n"
     ]
    }
   ],
   "source": [
    "# Imprime um cabeçalho para a coluna 'Tempo gasto acessando o site'\n",
    "print('Tempo gasto acessando o site\\n')\n",
    "\n",
    "# Itera sobre cada elemento da lista 'propaganda_online'\n",
    "for dado_de_usuario in propaganda_online:\n",
    "    # Imprime o valor de 'tempo_gasto_site' para cada usuário\n",
    "    print(dado_de_usuario['tempo_gasto_site'])"
   ]
  },
  {
   "cell_type": "markdown",
   "metadata": {
    "id": "CYQfeK5D6qik"
   },
   "source": [
    "Extrair os valores da chave idade"
   ]
  },
  {
   "cell_type": "code",
   "execution_count": 11,
   "metadata": {
    "colab": {
     "base_uri": "https://localhost:8080/"
    },
    "id": "pgvWZjSe6qik",
    "outputId": "d56b5be6-8c04-4682-bc51-2e813a32fb45"
   },
   "outputs": [
    {
     "name": "stdout",
     "output_type": "stream",
     "text": [
      "Idade\n",
      "\n",
      "35\n",
      "31\n",
      "26\n",
      "35\n",
      "33\n",
      "48\n",
      "30\n",
      "20\n"
     ]
    }
   ],
   "source": [
    "# Imprime um cabeçalho para a coluna 'Idade'\n",
    "print('Idade\\n')\n",
    "\n",
    "# Itera sobre cada elemento da lista 'propaganda_online'\n",
    "for dado_de_usuario in propaganda_online:\n",
    "    # Imprime o valor da 'idade' de cada usuário\n",
    "    print(dado_de_usuario['idade'])\n"
   ]
  },
  {
   "cell_type": "markdown",
   "metadata": {
    "id": "MZ7ipNqk6qik"
   },
   "source": [
    "## 2\\. Estrutura condicional if / else"
   ]
  },
  {
   "cell_type": "markdown",
   "metadata": {
    "id": "ry5YaswO6qil"
   },
   "source": [
    "2.1. Utilize a estrutura if/else para imprimir a cidade dos usuários que gastaram mais de 100 horas de tempo na internet\n",
    "\n",
    "Dica: Após a iteração dos elementos da lista (Através da estrutura condicional FOR),  utilize a estrutura if/else para criar a condição dos valores da chave `tempo_gasto_internet`"
   ]
  },
  {
   "cell_type": "code",
   "execution_count": 12,
   "metadata": {
    "colab": {
     "base_uri": "https://localhost:8080/"
    },
    "id": "ynuUSDDG6qil",
    "outputId": "bba36f10-b11a-45ff-eb38-995db9cbb52c"
   },
   "outputs": [
    {
     "name": "stdout",
     "output_type": "stream",
     "text": [
      "Cidade dos usuários com acesso a internet superior a 100 horas\n",
      "\n",
      "Wrightburgh\n",
      "West Jodi\n",
      "Davidton\n",
      "South Manuel\n",
      "Brandonstad\n",
      "Port Jefferybury\n",
      "West Colin\n",
      "Ramirezton\n"
     ]
    }
   ],
   "source": [
    "# Imprime um cabeçalho para a lista de 'Cidade dos usuários com acesso a internet superior a 100 horas'\n",
    "print('Cidade dos usuários com acesso a internet superior a 100 horas\\n')\n",
    "\n",
    "# Itera sobre cada elemento da lista 'propaganda_online'\n",
    "for dado_de_usuario in propaganda_online:\n",
    "    # Verifica se o 'tempo_gasto_internet' é superior a 100 horas para cada usuário\n",
    "    if dado_de_usuario['tempo_gasto_internet'] > 100:\n",
    "        # Se a condição for verdadeira, imprime a 'cidade' do usuário\n",
    "        print(dado_de_usuario['cidade'])\n",
    "    else:\n",
    "        # Se a condição for falsa, imprime 'Sem dados para processar' e encerra o loop com 'break'\n",
    "        print('Sem dados para processar')\n",
    "        break"
   ]
  },
  {
   "cell_type": "markdown",
   "metadata": {
    "id": "oWUzcRXv6qil"
   },
   "source": [
    "## 3\\. Estrutura condicional try / except"
   ]
  },
  {
   "cell_type": "markdown",
   "metadata": {
    "id": "hjdB7tqf6qil"
   },
   "source": [
    "3.1. Utilize a estrutura try/except para imprimir as cidades dos usuários que passaram mais de 70 segundos no site.\n",
    "\n",
    "Dica: Realize o tratamento de exceções dentro da execução da iteração dos elementos da lista"
   ]
  },
  {
   "cell_type": "code",
   "execution_count": 14,
   "metadata": {
    "colab": {
     "base_uri": "https://localhost:8080/"
    },
    "id": "xdg40biQ6qil",
    "outputId": "6a53c5d4-8103-46d6-a735-1cc4699e2a42"
   },
   "outputs": [
    {
     "name": "stdout",
     "output_type": "stream",
     "text": [
      "Cidade dos usuários com tempo superior a 70 segundos acessando o site\n",
      "\n",
      "Exceção: um ou mais registros não tem a chave\n",
      "\n",
      "['West Jodi', 'Brandonstad', 'West Colin']\n"
     ]
    }
   ],
   "source": [
    "# Inicializa uma lista vazia chamada 'cidades'\n",
    "cidades = []\n",
    "\n",
    "# Imprime um cabeçalho para a lista de 'Cidade dos usuários com tempo superior a 70 segundos acessando o site'\n",
    "print('Cidade dos usuários com tempo superior a 70 segundos acessando o site\\n')\n",
    "\n",
    "# Itera sobre cada elemento da lista 'propaganda_online'\n",
    "for dado_de_usuario in propaganda_online:\n",
    "    try:\n",
    "        # Tenta verificar se 'tempo_gasto_site' é superior a 70 segundos para cada usuário\n",
    "        if dado_de_usuario['tempo_gasto_site'] > 70.00:\n",
    "            # Se a condição for verdadeira, adiciona a 'cidade' à lista 'cidades'\n",
    "            cidades.append(dado_de_usuario['cidade'])\n",
    "    except TypeError as erro:\n",
    "        # Se ocorrer uma exceção TypeError, imprime a mensagem de erro\n",
    "        print('Exceção: um ou mais registros não tem a chave\\n')\n",
    "\n",
    "# Imprime a lista de 'cidades' dos usuários com tempo superior a 70 segundos acessando o site\n",
    "print(cidades)"
   ]
  },
  {
   "cell_type": "markdown",
   "metadata": {
    "id": "xF-pyaBx6qil"
   },
   "source": [
    "# Exercício bônus"
   ]
  },
  {
   "cell_type": "markdown",
   "metadata": {
    "id": "muD1vxozykSC"
   },
   "source": [
    "## 1\\. Dados de interação de usuários com propagandas online"
   ]
  },
  {
   "cell_type": "markdown",
   "metadata": {
    "id": "KI9zQRT2xa7m"
   },
   "source": [
    "1.1. Crie uma lista chamada `paises` com o pais dos usuários com mais de 30 anos.\n",
    "\n",
    "Dica: Para armazenar os países dos usuários na lista `paises` utilize o método append()."
   ]
  },
  {
   "cell_type": "code",
   "execution_count": 15,
   "metadata": {
    "colab": {
     "base_uri": "https://localhost:8080/"
    },
    "id": "fvYOUhoN-dxd",
    "outputId": "9334dcc7-1f0d-4b05-8eb7-877dd3ae7d3c"
   },
   "outputs": [
    {
     "name": "stdout",
     "output_type": "stream",
     "text": [
      "['Tunisia', 'Nauru', 'Iceland', 'Myanmar', 'Australia']\n"
     ]
    }
   ],
   "source": [
    "# Inicializa uma lista vazia chamada 'paises'\n",
    "paises = []\n",
    "\n",
    "# Itera sobre cada elemento da lista 'propaganda_online'\n",
    "for dado_de_usuario in propaganda_online:\n",
    "    # Verifica se 'idade' é maior que 30 para cada usuário\n",
    "    if dado_de_usuario['idade'] > 30:\n",
    "        # Se a condição for verdadeira, adiciona o 'pais' à lista 'paises'\n",
    "        paises.append(dado_de_usuario['pais'])\n",
    "\n",
    "# Imprime a lista de 'paises' dos usuários com idade maior que 30 anos\n",
    "print(paises)"
   ]
  },
  {
   "cell_type": "markdown",
   "metadata": {
    "id": "LU_VIEdD_PrZ"
   },
   "source": [
    "1.2. Crie uma lista chamada `leads` com a renda dos usuários que clicaram na propaganda.\n",
    "\n",
    "Dica: Para armazenar a renda dos usuários na lista `leads` utilize o método append()."
   ]
  },
  {
   "cell_type": "code",
   "execution_count": 16,
   "metadata": {
    "colab": {
     "base_uri": "https://localhost:8080/"
    },
    "id": "3mTbsme4_Pr0",
    "outputId": "b05533e1-09db-41ac-940d-0e9ff17b1ec3"
   },
   "outputs": [
    {
     "name": "stdout",
     "output_type": "stream",
     "text": [
      "Exceção: um ou mais registros não têm a chave\n",
      "\n",
      "[24593.33]\n"
     ]
    }
   ],
   "source": [
    "# Importa a exceção 'exception' do módulo 'logging'\n",
    "from logging import exception\n",
    "\n",
    "# Inicializa uma lista vazia chamada 'leads'\n",
    "leads = []\n",
    "\n",
    "# Itera sobre cada elemento da lista 'propaganda_online'\n",
    "for dado_de_usuario in propaganda_online:\n",
    "    try:\n",
    "        # Tenta verificar se 'clicou_no_ad' é igual a 1 para cada usuário\n",
    "        if dado_de_usuario['clicou_no_ad'] == 1:\n",
    "            # Se a condição for verdadeira, adiciona 'renda_area' à lista 'leads'\n",
    "            leads.append(dado_de_usuario['renda_area'])\n",
    "    except KeyError as erro:\n",
    "        # Se ocorrer uma exceção KeyError, imprime a mensagem de erro\n",
    "        print('Exceção: um ou mais registros não têm a chave\\n')\n",
    "\n",
    "# Imprime a lista de 'leads' dos usuários que clicaram no anúncio\n",
    "print(leads)"
   ]
  }
 ],
 "metadata": {
  "colab": {
   "provenance": [],
   "toc_visible": true
  },
  "kernelspec": {
   "display_name": "Python 3 (ipykernel)",
   "language": "python",
   "name": "python3"
  },
  "language_info": {
   "codemirror_mode": {
    "name": "ipython",
    "version": 3
   },
   "file_extension": ".py",
   "mimetype": "text/x-python",
   "name": "python",
   "nbconvert_exporter": "python",
   "pygments_lexer": "ipython3",
   "version": "3.11.3"
  }
 },
 "nbformat": 4,
 "nbformat_minor": 1
}
