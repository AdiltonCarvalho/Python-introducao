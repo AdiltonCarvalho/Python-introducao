{
 "cells": [
  {
   "cell_type": "markdown",
   "metadata": {
    "id": "d9jDtUbDOE1-"
   },
   "source": [
    "# **Introdução**\n",
    "\n",
    "A manipulação de arquivos é uma tarefa fundamental na programação, permitindo que os programas interajam com dados armazenados em disco. Python oferece recursos poderosos para lidar com arquivos, e nesta introdução, exploraremos os principais aspectos relacionados à manipulação de arquivos em Python.\n",
    "\n",
    "**Leitura de Arquivos:**\n",
    "\n",
    "Python oferece uma maneira simples e eficaz de ler dados de arquivos existentes. Através da função `open()`, você pode abrir um arquivo em modo de leitura (`'r'`) e ler seu conteúdo linha por linha ou como um todo. A leitura de arquivos é essencial para acessar informações armazenadas em documentos, bancos de dados ou qualquer outra fonte de dados persistente.\n",
    "\n",
    "**Escrita em Arquivos:**\n",
    "\n",
    "Além de ler, Python permite a escrita em arquivos. Você pode abrir um arquivo em modo de escrita (`'w'`) e escrever dados nele. Isso é útil para criar, atualizar ou modificar informações em arquivos existentes ou criar novos arquivos para armazenar dados gerados pelo seu programa.\n",
    "\n",
    "**Funções para Manipulação de Arquivos:**\n",
    "\n",
    "Python oferece uma variedade de funções e métodos para facilitar a manipulação de arquivos. Isso inclui funções como `read()`, `write()`, `seek()`, `close()`, e muitas outras, que permitem operações específicas de acordo com suas necessidades.\n",
    "\n",
    "**Escopo de Arquivos:**\n",
    "\n",
    "Ao lidar com arquivos, é importante entender o escopo em que um arquivo está aberto. Isso envolve considerar o momento de abertura e fechamento do arquivo, bem como garantir que os recursos do sistema sejam gerenciados adequadamente para evitar vazamentos de recursos.\n",
    "\n",
    "Nesta introdução, você aprenderá como usar esses conceitos para realizar operações de leitura e escrita em arquivos, criar e modificar dados persistentes, e como garantir que seu código seja eficiente e seguro ao manipular arquivos em Python. A manipulação de arquivos é uma habilidade essencial para muitos tipos de aplicativos, desde processamento de dados até criação de registros e muito mais."
   ]
  },
  {
   "cell_type": "markdown",
   "metadata": {
    "id": "GABI6OW8OfQ2"
   },
   "source": [
    "# **Exercícios**"
   ]
  },
  {
   "cell_type": "markdown",
   "metadata": {
    "id": "muD1vxozykSC"
   },
   "source": [
    "## 0\\. Preparação do ambiente"
   ]
  },
  {
   "cell_type": "markdown",
   "metadata": {
    "id": "ahrFfCuBxJKs"
   },
   "source": [
    "Neste exercício vamos trabalhar com os arquivos de csv e texto definidos abaixo. Faça o download no repositório e mantenha na mesma pasta do notebook."
   ]
  },
  {
   "cell_type": "markdown",
   "metadata": {
    "id": "u0uFuhRSq_hQ"
   },
   "source": [
    "* **carros.csv**: arquivo csv com informações sobre carros (venda, manutenção, portas, etc.).\n",
    "* **musica.txt**: arquivo texto com a letra da música Roda Viva do Chico Buarque."
   ]
  },
  {
   "cell_type": "markdown",
   "metadata": {
    "id": "grh8QkWT0E_F"
   },
   "source": [
    "## 1. Extração de coluna de arquivo csv"
   ]
  },
  {
   "cell_type": "markdown",
   "metadata": {},
   "source": [
    "1.1 Extraia os valores `valor_venda` e armazene em uma lista."
   ]
  },
  {
   "cell_type": "code",
   "execution_count": 7,
   "metadata": {
    "colab": {
     "base_uri": "https://localhost:8080/"
    },
    "id": "Cxj3ekF40E_F",
    "outputId": "7d7b2e2b-44cf-4acd-b3e8-6031d247faf2"
   },
   "outputs": [
    {
     "name": "stdout",
     "output_type": "stream",
     "text": [
      "['vhigh', 'med', 'low', 'low', 'low', 'low', 'low', 'low', 'low', 'low', 'low', 'low', 'low', 'low']\n"
     ]
    }
   ],
   "source": [
    "# Inicializa uma lista vazia chamada 'valor_venda'\n",
    "valor_venda = []\n",
    "\n",
    "# Abre o arquivo 'carros.csv' em modo de leitura ('r') com codificação UTF-8\n",
    "with open(file='./carros.csv', mode='r', encoding='utf8') as arquivo:\n",
    "    # Lê a primeira linha do arquivo (cabeçalho) e a descarta\n",
    "    linha = arquivo.readline()\n",
    "    # Lê a próxima linha após o cabeçalho\n",
    "    linha = arquivo.readline()\n",
    "    # Enquanto houver linhas para ler no arquivo\n",
    "    while linha:\n",
    "        # Divide a linha em uma lista usando ',' como separador\n",
    "        linha = linha.split(sep=',')\n",
    "        # Seleciona o valor na segunda coluna (índice 1) e o armazena em 'linha'\n",
    "        linha = linha[1]\n",
    "        # Adiciona o valor à lista 'valor_venda'\n",
    "        valor_venda.append(linha)\n",
    "        # Lê a próxima linha do arquivo\n",
    "        linha = arquivo.readline()\n",
    "\n",
    "# Imprime a lista 'valor_venda' que contém os valores de venda do arquivo\n",
    "print(valor_venda)"
   ]
  },
  {
   "cell_type": "markdown",
   "metadata": {
    "id": "lBEdubIw0E_F"
   },
   "source": [
    "1.2 Extraia os valores `valor_manutencao` e armazene em uma lista."
   ]
  },
  {
   "cell_type": "code",
   "execution_count": null,
   "metadata": {},
   "outputs": [],
   "source": []
  },
  {
   "cell_type": "markdown",
   "metadata": {},
   "source": [
    "1.3 Extraia os valores `portas` e armazene em uma lista."
   ]
  },
  {
   "cell_type": "code",
   "execution_count": null,
   "metadata": {},
   "outputs": [],
   "source": []
  },
  {
   "cell_type": "markdown",
   "metadata": {},
   "source": [
    "1.4 Extraia os valores `pessoas` e armazene em uma lista."
   ]
  },
  {
   "cell_type": "code",
   "execution_count": null,
   "metadata": {},
   "outputs": [],
   "source": []
  },
  {
   "cell_type": "markdown",
   "metadata": {},
   "source": [
    "1.5 Extraia os valores `porta_malas` e armazene em uma lista."
   ]
  },
  {
   "cell_type": "code",
   "execution_count": null,
   "metadata": {},
   "outputs": [],
   "source": []
  },
  {
   "cell_type": "markdown",
   "metadata": {
    "id": "U4S19ZvHsPcE"
   },
   "source": [
    "## 2\\. Funções para arquivo csv"
   ]
  },
  {
   "cell_type": "markdown",
   "metadata": {
    "id": "Mcf3mkOrtHzK"
   },
   "source": [
    "A função abaixo extrai uma coluna do arquivo csv em uma lista. Os elementos devem ter o tipo de dado correto."
   ]
  },
  {
   "cell_type": "code",
   "execution_count": 8,
   "metadata": {
    "id": "W-1PAg7Ctt7i"
   },
   "outputs": [],
   "source": [
    "def extrai_coluna_csv(nome_arquivo: str, indice_coluna: int, tipo_dado: str):\n",
    "    # Inicializa uma lista vazia chamada 'coluna' para armazenar os valores da coluna extraída\n",
    "    coluna = []\n",
    "\n",
    "    # Abre o arquivo especificado por 'nome_arquivo' em modo de leitura ('r') com codificação UTF-8\n",
    "    with open(file=nome_arquivo, mode='r', encoding='utf8') as arquivo:\n",
    "        # Lê a primeira linha do arquivo (cabeçalho) e a descarta\n",
    "        linha = arquivo.readline()\n",
    "        # Lê a próxima linha após o cabeçalho\n",
    "        linha = arquivo.readline()\n",
    "        # Enquanto houver linhas para ler no arquivo\n",
    "        while linha:\n",
    "            # Remove espaços em branco à esquerda e à direita de 'linha' e, em seguida, divide a linha em uma lista usando\n",
    "            #',' como separador\n",
    "            linha_separada = linha.strip().split(sep=',')\n",
    "            # Extrai o valor da coluna com base no índice especificado por 'indice_coluna'\n",
    "            extrair_coluna = linha_separada[indice_coluna]\n",
    "\n",
    "            # Converte o valor da coluna para o tipo de dado especificado por 'tipo_dado'\n",
    "            if tipo_dado == 'str':\n",
    "                extrair_coluna = str(extrair_coluna)\n",
    "            elif tipo_dado == 'int':\n",
    "                extrair_coluna = int(extrair_coluna)\n",
    "            else:\n",
    "                # Se 'tipo_dado' for inválido, imprime uma mensagem de erro\n",
    "                print('Tipo de dado inválido')\n",
    "\n",
    "            # Adiciona o valor convertido à lista 'coluna'\n",
    "            coluna.append(extrair_coluna)\n",
    "\n",
    "            # Lê a próxima linha do arquivo\n",
    "            linha = arquivo.readline()\n",
    "\n",
    "    # Retorna a lista 'coluna' que contém os valores da coluna extraída\n",
    "    return coluna"
   ]
  },
  {
   "cell_type": "markdown",
   "metadata": {
    "id": "qCbQF6jru_01"
   },
   "source": [
    "2.1 Extraia os valores `valor_venda` e armazene em uma lista usando a função `extrai_coluna_csv`."
   ]
  },
  {
   "cell_type": "code",
   "execution_count": 9,
   "metadata": {
    "colab": {
     "base_uri": "https://localhost:8080/"
    },
    "id": "Rl-EYdySu90s",
    "outputId": "19fc70fa-57fb-4039-dea6-3bb1b567bbb5"
   },
   "outputs": [
    {
     "name": "stdout",
     "output_type": "stream",
     "text": [
      "['vhigh', 'med', 'low', 'low', 'low', 'low', 'low', 'low', 'low', 'low', 'low', 'low', 'low', 'low']\n"
     ]
    }
   ],
   "source": [
    "# Chama a função extrai_coluna_csv para extrair a coluna de valores de venda (coluna 1) como strings\n",
    "valor_venda = extrai_coluna_csv(nome_arquivo='./carros.csv', indice_coluna=1, tipo_dado='str')\n",
    "\n",
    "# Imprime a lista 'valor_venda' que contém os valores de venda extraídos do arquivo CSV\n",
    "print(valor_venda)"
   ]
  },
  {
   "cell_type": "markdown",
   "metadata": {},
   "source": [
    "2.2 Extraia os valores `valor_manutencao` e armazene em uma lista usando a função `extrai_coluna_csv`."
   ]
  },
  {
   "cell_type": "code",
   "execution_count": null,
   "metadata": {},
   "outputs": [],
   "source": []
  },
  {
   "cell_type": "markdown",
   "metadata": {},
   "source": [
    "2.3 Extraia os valores `portas` e armazene em uma lista usando a função `extrai_coluna_csv`."
   ]
  },
  {
   "cell_type": "code",
   "execution_count": null,
   "metadata": {},
   "outputs": [],
   "source": []
  },
  {
   "cell_type": "markdown",
   "metadata": {},
   "source": [
    "2.4 Extraia os valores `pessoas` e armazene em uma lista usando a função `extrai_coluna_csv`."
   ]
  },
  {
   "cell_type": "code",
   "execution_count": null,
   "metadata": {
    "colab": {
     "base_uri": "https://localhost:8080/"
    },
    "id": "hvD-zzwDwboD",
    "outputId": "8d7335a0-7751-409a-dcb3-6ded732f0865"
   },
   "outputs": [],
   "source": []
  },
  {
   "cell_type": "markdown",
   "metadata": {},
   "source": [
    "2.5 Extraia os valores `porta_malas` e armazene em uma lista usando a função `extrai_coluna_csv`."
   ]
  },
  {
   "cell_type": "code",
   "execution_count": null,
   "metadata": {},
   "outputs": [],
   "source": []
  },
  {
   "cell_type": "markdown",
   "metadata": {
    "id": "sebqs6uztCH4"
   },
   "source": [
    "## 3\\. Funções para arquivo txt"
   ]
  },
  {
   "cell_type": "markdown",
   "metadata": {
    "id": "IFVBGkNhzB3P"
   },
   "source": [
    "A função abaixo extrai palavras de uma linha do arquivo txt em uma lista."
   ]
  },
  {
   "cell_type": "code",
   "execution_count": 28,
   "metadata": {
    "id": "ewrNqMtczWZJ"
   },
   "outputs": [],
   "source": [
    "# Definindo uma função chamada extrai_linha_txt que extrai uma linha específica de um arquivo de texto.\n",
    "# Recebe dois parâmetros: nome_arquivo (o nome do arquivo de texto) e numero_linha (o número da linha a ser extraída).\n",
    "def extrai_linha_txt(nome_arquivo: str, numero_linha: int):\n",
    "    # Inicializa uma lista vazia chamada 'palavras_linha' para armazenar as palavras de cada linha do arquivo.\n",
    "    palavras_linha = []\n",
    "\n",
    "    # Abre o arquivo especificado por 'nome_arquivo' em modo de leitura ('r') com codificação UTF-8.\n",
    "    with open(file=nome_arquivo, mode='r', encoding='utf8') as arquivo:\n",
    "        # Itera pelas linhas do arquivo.\n",
    "        for linha in arquivo:\n",
    "            # Remove espaços em branco à esquerda e à direita da linha e, em seguida, divide a linha em uma lista usando espaço como separador.\n",
    "            palavras_linha.append(linha.strip().split(sep=' '))\n",
    "\n",
    "    # Retorna a linha específica (índice 'numero_linha-1') da lista 'palavras_linha'.\n",
    "    return palavras_linha[numero_linha-1]"
   ]
  },
  {
   "cell_type": "markdown",
   "metadata": {
    "id": "Qz2UwipIz0t2"
   },
   "source": [
    "3.1 Extraia a linha `Mas eis que chega a roda viva` do arquivo txt e armazene em uma lista com a função `extrai_linha_txt`. "
   ]
  },
  {
   "cell_type": "code",
   "execution_count": null,
   "metadata": {
    "colab": {
     "base_uri": "https://localhost:8080/"
    },
    "id": "_Wxp43qqz1V2",
    "outputId": "81887fad-dd86-4f22-bfe4-052c679a2956"
   },
   "outputs": [],
   "source": []
  },
  {
   "cell_type": "markdown",
   "metadata": {},
   "source": [
    "3.1 Extraia a linha `Roda mundo, roda-gigante` do arquivo txt e armazene em uma lista com a função `extrai_linha_txt`."
   ]
  },
  {
   "cell_type": "code",
   "execution_count": null,
   "metadata": {},
   "outputs": [],
   "source": []
  }
 ],
 "metadata": {
  "colab": {
   "provenance": [],
   "toc_visible": true
  },
  "kernelspec": {
   "display_name": "Python 3 (ipykernel)",
   "language": "python",
   "name": "python3"
  },
  "language_info": {
   "codemirror_mode": {
    "name": "ipython",
    "version": 3
   },
   "file_extension": ".py",
   "mimetype": "text/x-python",
   "name": "python",
   "nbconvert_exporter": "python",
   "pygments_lexer": "ipython3",
   "version": "3.11.3"
  }
 },
 "nbformat": 4,
 "nbformat_minor": 1
}
