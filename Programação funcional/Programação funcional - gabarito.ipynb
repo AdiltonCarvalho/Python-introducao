{
 "cells": [
  {
   "cell_type": "markdown",
   "metadata": {
    "id": "d9jDtUbDOE1-"
   },
   "source": [
    "# **Introdução**\n",
    "\n",
    "\n",
    "Python, uma das linguagens de programação mais populares e versáteis do mundo, oferece uma ampla gama de recursos para tornar a programação mais eficiente e expressiva. Quatro desses recursos são particularmente poderosos quando se trata de manipulação de dados e iteráveis: Funções lambda, map, filter e reduce.\n",
    "\n",
    "### Função Lambda\n",
    "\n",
    "As funções lambda, também conhecidas como funções anônimas, são pequenas e concisas. Elas permitem que você defina funções de forma rápida e sem a necessidade de nomeá-las formalmente. As funções lambda são ideais quando você precisa de uma função simples para realizar uma tarefa específica. A sintaxe básica de uma função lambda é:\n",
    "\n",
    "```python\n",
    "lambda argumentos: expressao\n",
    "```\n",
    "\n",
    "### Função Map\n",
    "\n",
    "A função map é uma ferramenta poderosa para aplicar uma função a cada item em uma sequência (como uma lista) e coletar os resultados em uma nova sequência. Isso é particularmente útil quando você deseja realizar uma operação em todos os elementos de uma coleção de dados sem a necessidade de um loop explícito. A estrutura básica de uma chamada de map é:\n",
    "\n",
    "```python\n",
    "map(funcao, iteravel)\n",
    "```\n",
    "\n",
    "### Função Filter\n",
    "\n",
    "A função filter, como o nome sugere, é usada para filtrar elementos de um iterável com base em uma função de filtro. Ela cria uma nova sequência contendo apenas os elementos que atendem a uma condição específica definida pela função de filtro. A estrutura típica de uma chamada de filter é:\n",
    "\n",
    "```python\n",
    "filter(funcao_de_filtro, iteravel)\n",
    "```\n",
    "\n",
    "### Função Reduce\n",
    "\n",
    "Embora a função reduce não seja mais uma função integrada no Python 3, ela ainda é uma parte valiosa da biblioteca `functools`. A função reduce é usada para aplicar uma função de redução cumulativa a uma sequência de elementos, agregando-os iterativamente até obter um único resultado. A estrutura básica de uma chamada de reduce é:\n",
    "\n",
    "```python\n",
    "functools.reduce(funcao_de_reducao, iteravel)\n",
    "```\n",
    "\n",
    "Cada um desses recursos desempenha um papel fundamental na manipulação de dados e na transformação de iteráveis em Python. Ao compreender e utilizar funções lambda, map, filter e reduce, você se torna um programador mais eficiente e capaz de enfrentar desafios de processamento de dados com facilidade e elegância.\n",
    "\n",
    "Nesta introdução, exploraremos cada um desses tópicos em detalhes, fornecendo exemplos práticos e insights sobre como aproveitar ao máximo essas ferramentas versáteis na programação Python."
   ]
  },
  {
   "cell_type": "markdown",
   "metadata": {
    "id": "GABI6OW8OfQ2"
   },
   "source": [
    "# **Exercícios**"
   ]
  },
  {
   "cell_type": "markdown",
   "metadata": {
    "id": "muD1vxozykSC"
   },
   "source": [
    "## 0\\. Preparação do ambiente"
   ]
  },
  {
   "cell_type": "markdown",
   "metadata": {
    "id": "ahrFfCuBxJKs"
   },
   "source": [
    "Neste exercício vamos trabalhar com o arquivo csv com dados de crédito, definido abaixo. Execute cada uma das células de código para escrever os arquivos na sua máquina virtual."
   ]
  },
  {
   "cell_type": "code",
   "execution_count": 5,
   "metadata": {
    "colab": {
     "base_uri": "https://localhost:8080/"
    },
    "id": "Kjt3HvFX7C3A",
    "outputId": "1ab93493-fc91-4c26-9b00-2afbf6a274ad"
   },
   "outputs": [
    {
     "name": "stdout",
     "output_type": "stream",
     "text": [
      "Overwriting credito.csv\n"
     ]
    }
   ],
   "source": [
    "%%writefile credito.csv\n",
    "id_vendedor,valor_emprestimos,quantidade_emprestimos,data\n",
    "104271,448.0,1,20161208\n",
    "21476,826.7,3,20161208\n",
    "87440,313.6,3,20161208\n",
    "15980,-8008.0,6,20161208\n",
    "215906,2212.0,5,20161208\n",
    "33696,2771.3,2,20161208\n",
    "33893,2240.0,3,20161208\n",
    "214946,-4151.0,18,20161208\n",
    "123974,2021.95,2,20161208\n",
    "225870,4039.0,2,20161208"
   ]
  },
  {
   "cell_type": "markdown",
   "metadata": {
    "id": "tnhM9v2X7yGS"
   },
   "source": [
    "Vamos ler o conteúdo do arquivo em uma lista onde cada elemento é um dicionário representando as linhas do arquivo."
   ]
  },
  {
   "cell_type": "code",
   "execution_count": 6,
   "metadata": {
    "id": "T00Y_WIh7uPU"
   },
   "outputs": [],
   "source": [
    "# Inicializa uma lista vazia chamada 'emprestimos' para armazenar os dados do arquivo CSV.\n",
    "emprestimos = []\n",
    "\n",
    "# Abre o arquivo especificado por './credito.csv' em modo de leitura ('r') com codificação UTF-8.\n",
    "with open(file='./credito.csv', mode='r', encoding='utf8') as fp:\n",
    "    # Lê a primeira linha do arquivo (cabeçalho) e a descarta.\n",
    "    fp.readline()\n",
    "\n",
    "    # Lê a próxima linha após o cabeçalho.\n",
    "    linha = fp.readline()\n",
    "\n",
    "    # Enquanto houver linhas para ler no arquivo.\n",
    "    while linha:\n",
    "        # Inicializa um dicionário vazio chamado 'linha_emprestimo' para armazenar os dados de empréstimo da linha atual.\n",
    "        linha_emprestimo = {}\n",
    "\n",
    "        # Divide a linha em uma lista usando ',' como separador.\n",
    "        linha_elementos = linha.strip().split(sep=',')\n",
    "\n",
    "        # Associa os elementos da linha aos campos do dicionário 'linha_emprestimo'.\n",
    "        linha_emprestimo['id_vendedor'] = linha_elementos[0]\n",
    "        linha_emprestimo['valor_emprestimos'] = linha_elementos[1]\n",
    "        linha_emprestimo['quantidade_emprestimos'] = linha_elementos[2]\n",
    "        linha_emprestimo['data'] = linha_elementos[3]\n",
    "\n",
    "        # Adiciona o dicionário 'linha_emprestimo' à lista 'emprestimos'.\n",
    "        emprestimos.append(linha_emprestimo)\n",
    "\n",
    "        # Lê a próxima linha do arquivo.\n",
    "        linha = fp.readline()"
   ]
  },
  {
   "cell_type": "code",
   "execution_count": 7,
   "metadata": {
    "colab": {
     "base_uri": "https://localhost:8080/"
    },
    "id": "Bp0ZgdTM84bw",
    "outputId": "917dd207-c3bf-4bce-9e1f-dd970ca6353b"
   },
   "outputs": [
    {
     "name": "stdout",
     "output_type": "stream",
     "text": [
      "{'id_vendedor': '104271', 'valor_emprestimos': '448.0', 'quantidade_emprestimos': '1', 'data': '20161208'}\n",
      "{'id_vendedor': '21476', 'valor_emprestimos': '826.7', 'quantidade_emprestimos': '3', 'data': '20161208'}\n",
      "{'id_vendedor': '87440', 'valor_emprestimos': '313.6', 'quantidade_emprestimos': '3', 'data': '20161208'}\n",
      "{'id_vendedor': '15980', 'valor_emprestimos': '-8008.0', 'quantidade_emprestimos': '6', 'data': '20161208'}\n",
      "{'id_vendedor': '215906', 'valor_emprestimos': '2212.0', 'quantidade_emprestimos': '5', 'data': '20161208'}\n",
      "{'id_vendedor': '33696', 'valor_emprestimos': '2771.3', 'quantidade_emprestimos': '2', 'data': '20161208'}\n",
      "{'id_vendedor': '33893', 'valor_emprestimos': '2240.0', 'quantidade_emprestimos': '3', 'data': '20161208'}\n",
      "{'id_vendedor': '214946', 'valor_emprestimos': '-4151.0', 'quantidade_emprestimos': '18', 'data': '20161208'}\n",
      "{'id_vendedor': '123974', 'valor_emprestimos': '2021.95', 'quantidade_emprestimos': '2', 'data': '20161208'}\n",
      "{'id_vendedor': '225870', 'valor_emprestimos': '4039.0', 'quantidade_emprestimos': '2', 'data': '20161208'}\n"
     ]
    }
   ],
   "source": [
    "# Itera sobre a lista 'emprestimos' e imprime cada dicionário que representa um empréstimo.\n",
    "for emprestimo in emprestimos:\n",
    "    print(emprestimo)"
   ]
  },
  {
   "cell_type": "markdown",
   "metadata": {
    "id": "KI9zQRT2xa7m"
   },
   "source": [
    "## 1\\. Função `map`\n",
    "\n"
   ]
  },
  {
   "cell_type": "markdown",
   "metadata": {
    "id": "U63MjM7H7o1Y"
   },
   "source": [
    "Aplique a função map na lista de `emprestimos` para extrair os valores da chave `valor_emprestimos` na lista `valor_emprestimos_lista`. Faça também a conversão de `str` para `float`."
   ]
  },
  {
   "cell_type": "code",
   "execution_count": 11,
   "metadata": {
    "id": "-yAW4PJh9h7a"
   },
   "outputs": [
    {
     "name": "stdout",
     "output_type": "stream",
     "text": [
      "[448.0, 826.7, 313.6, -8008.0, 2212.0, 2771.3, 2240.0, -4151.0, 2021.95, 4039.0]\n"
     ]
    }
   ],
   "source": [
    "# Aplica a função map diretamente à lista de empréstimos para extrair e converter 'valor_emprestimos' de str para float.\n",
    "valor_emprestimos_lista = list(map(lambda emprestimo: float(emprestimo['valor_emprestimos']), emprestimos))\n",
    "\n",
    "# Imprime a lista resultante\n",
    "print(valor_emprestimos_lista)"
   ]
  },
  {
   "cell_type": "markdown",
   "metadata": {},
   "source": [
    "Aplique a função map na lista de `emprestimos` para extrair os valores da chave `quantidade_emprestimos` na lista `quantidade_emprestimos_lista`. Faça também a conversão de `str` para `int`."
   ]
  },
  {
   "cell_type": "code",
   "execution_count": 15,
   "metadata": {},
   "outputs": [
    {
     "name": "stdout",
     "output_type": "stream",
     "text": [
      "[1, 3, 3, 6, 5, 2, 3, 18, 2, 2]\n"
     ]
    }
   ],
   "source": [
    "# Aplica a função map diretamente à lista de empréstimos para extrair e converter 'valor_emprestimos' de str para int.\n",
    "quantidade_emprestimos_lista = list(map(lambda emprestimo: int(emprestimo['quantidade_emprestimos']), emprestimos))\n",
    "\n",
    "# Imprime a lista resultante\n",
    "print(quantidade_emprestimos_lista)"
   ]
  },
  {
   "cell_type": "markdown",
   "metadata": {},
   "source": [
    "Aplique a função map na lista de `emprestimos` para extrair os valores da chave `data` na lista `data_lista`."
   ]
  },
  {
   "cell_type": "code",
   "execution_count": 17,
   "metadata": {},
   "outputs": [
    {
     "name": "stdout",
     "output_type": "stream",
     "text": [
      "['20161208', '20161208', '20161208', '20161208', '20161208', '20161208', '20161208', '20161208', '20161208', '20161208']\n"
     ]
    }
   ],
   "source": [
    "# Aplica a função map diretamente à lista de empréstimos para extrair e converter 'valor_emprestimos' de str para float.\n",
    "data_lista = list(map(lambda emprestimo: emprestimo['data'], emprestimos))\n",
    "\n",
    "# Imprime a lista resultante\n",
    "print(data_lista)"
   ]
  },
  {
   "cell_type": "markdown",
   "metadata": {
    "id": "WKHvMtFX_JKH"
   },
   "source": [
    "## 2\\. Função `filter`\n",
    "\n"
   ]
  },
  {
   "cell_type": "markdown",
   "metadata": {
    "id": "6V34N3Lf_gUM"
   },
   "source": [
    "Aplique a função filter na lista de `valor_emprestimos_lista` para filtrar apenas os valores maiores que zero (os valores negativas são erros na base de dados). Salve os valores na lista `valor_emprestimos_lista_filtrada`."
   ]
  },
  {
   "cell_type": "code",
   "execution_count": 20,
   "metadata": {
    "id": "3y7Vmm0yACuk"
   },
   "outputs": [
    {
     "name": "stdout",
     "output_type": "stream",
     "text": [
      "[448.0, 826.7, 313.6, 2212.0, 2771.3, 2240.0, 2021.95, 4039.0]\n"
     ]
    }
   ],
   "source": [
    "# Filtra os valores de 'valor_emprestimos_lista' para incluir apenas os valores maiores que zero.\n",
    "valor_emprestimos_lista_filtrada = list(filter(lambda valor: valor > 0, valor_emprestimos_lista))\n",
    "\n",
    "# Imprime a lista resultante\n",
    "print(valor_emprestimos_lista_filtrada)"
   ]
  },
  {
   "cell_type": "markdown",
   "metadata": {
    "id": "s4TzfRxC_Yp4"
   },
   "source": [
    "## 3\\. Função `reduce`\n",
    "\n"
   ]
  },
  {
   "cell_type": "markdown",
   "metadata": {
    "id": "RwV4V7gDAWfJ"
   },
   "source": [
    "Com a nossa lista de valores de emprestimo pronta, vamos extrair algumas métricas."
   ]
  },
  {
   "cell_type": "markdown",
   "metadata": {
    "id": "zjXA6H0LAf1_"
   },
   "source": [
    "### 3\\.1\\. Função `reduce` para extrair a **soma**"
   ]
  },
  {
   "cell_type": "markdown",
   "metadata": {
    "id": "u1kxPpkUArKw"
   },
   "source": [
    "Aplique a função reduce para somar os elementos da lista `valor_emprestimos_lista_filtrada` na variavel `soma_valor_emprestimos`."
   ]
  },
  {
   "cell_type": "code",
   "execution_count": 33,
   "metadata": {
    "id": "ptAFEVpMAr6_"
   },
   "outputs": [],
   "source": [
    "# Importa a função 'reduce' do módulo 'functools'.\n",
    "from functools import reduce\n",
    "\n",
    "# Utiliza a função 'reduce' para somar os valores em 'valor_emprestimos_lista_filtrada'.\n",
    "soma_valor_emprestimos = reduce(lambda valor1, valor2: valor1 + valor2, valor_emprestimos_lista_filtrada)\n",
    "\n",
    "# Imprime o resultado da soma.\n",
    "print(soma_valor_emprestimos)"
   ]
  },
  {
   "cell_type": "markdown",
   "metadata": {
    "id": "v8h9TkYqBLPn"
   },
   "source": [
    "### 3\\.2\\. Função `reduce` para extrair a **media aritimética**"
   ]
  },
  {
   "cell_type": "markdown",
   "metadata": {
    "id": "VXsNI53NBLPo"
   },
   "source": [
    "Aplique a função reduce para extrair a média aritimética (mais informações [aqui](https://pt.wikipedia.org/wiki/M%C3%A9dia#M%C3%A9dia_aritm%C3%A9tica)) dos elementos da lista `valor_emprestimos_lista_filtrada` na variavel `media_valor_emprestimos`.\n",
    "\n",
    "Dica: Para calcular o tamanho da lista, isto é a quantidade de elementos, utilize a função len(), dentro do argumento da função coloque a lista `valor_emprestimos_lista_filtrada`."
   ]
  },
  {
   "cell_type": "code",
   "execution_count": 23,
   "metadata": {
    "id": "qbWv8a2GBLPp"
   },
   "outputs": [
    {
     "name": "stdout",
     "output_type": "stream",
     "text": [
      "1859.0687500000001\n"
     ]
    }
   ],
   "source": [
    "# Importa a função 'reduce' do módulo 'functools'.\n",
    "from functools import reduce\n",
    "\n",
    "# Utiliza a função 'reduce' para somar os valores em 'valor_emprestimos_lista_filtrada'.\n",
    "# Em seguida, divide a soma pelo número de elementos para calcular a média.\n",
    "media_valor_emprestimos = reduce(lambda valor1, valor2: valor1 + valor2, valor_emprestimos_lista_filtrada) / len(valor_emprestimos_lista_filtrada)\n",
    "\n",
    "# Imprime o resultado da média.\n",
    "print(media_valor_emprestimos)"
   ]
  },
  {
   "cell_type": "markdown",
   "metadata": {
    "id": "rCwM3DcJBeyB"
   },
   "source": [
    "### 3\\.3\\. (**Desafio**) Extrair o **desvio padrão amostral**"
   ]
  },
  {
   "cell_type": "markdown",
   "metadata": {
    "id": "jw3azoT_BeyC"
   },
   "source": [
    "Aplique a biblioteca numpy (mais informações [aqui](https://pypi.org/search/?q=numpy)) para extrair o desvio padrão amostral dos elementos da lista `valor_emprestimos_lista_filtrada` na variavel `desvio_padrao_valor_emprestimos`."
   ]
  },
  {
   "cell_type": "code",
   "execution_count": 33,
   "metadata": {
    "id": "8HnNxp9mBeyD"
   },
   "outputs": [
    {
     "name": "stdout",
     "output_type": "stream",
     "text": [
      "1271.9972711497853\n"
     ]
    }
   ],
   "source": [
    "import numpy as np\n",
    "\n",
    "desvio_padrao_valor_emprestimos = np.std(valor_emprestimos_lista_filtrada, ddof = 1)\n",
    "\n",
    "print(desvio_padrao_valor_emprestimos)"
   ]
  },
  {
   "cell_type": "markdown",
   "metadata": {
    "id": "ai2mZYnG_b_s"
   },
   "source": [
    "---"
   ]
  }
 ],
 "metadata": {
  "colab": {
   "provenance": []
  },
  "kernelspec": {
   "display_name": "Python 3 (ipykernel)",
   "language": "python",
   "name": "python3"
  },
  "language_info": {
   "codemirror_mode": {
    "name": "ipython",
    "version": 3
   },
   "file_extension": ".py",
   "mimetype": "text/x-python",
   "name": "python",
   "nbconvert_exporter": "python",
   "pygments_lexer": "ipython3",
   "version": "3.11.3"
  }
 },
 "nbformat": 4,
 "nbformat_minor": 1
}
